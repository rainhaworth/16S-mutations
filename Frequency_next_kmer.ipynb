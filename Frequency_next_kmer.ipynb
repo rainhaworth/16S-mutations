{
 "cells": [
  {
   "cell_type": "code",
   "execution_count": 1,
   "id": "2b0b95fe-6c0f-4d6b-8a6f-a5cb4889058e",
   "metadata": {},
   "outputs": [
    {
     "name": "stdout",
     "output_type": "stream",
     "text": [
      "libraries loaded!\n"
     ]
    }
   ],
   "source": [
    "import random\n",
    "import numpy as np\n",
    "import itertools\n",
    "from Bio import SeqIO\n",
    "from collections import defaultdict, Counter\n",
    "import matplotlib.pyplot as plt\n",
    "\n",
    "print('libraries loaded!')"
   ]
  },
  {
   "cell_type": "code",
   "execution_count": 2,
   "id": "071b5437-bb72-4ff8-adaa-702f937ca3a5",
   "metadata": {},
   "outputs": [],
   "source": [
    "# This function mutates num_mutations number of mutations to a diferent nucleotide in a given sequence\n",
    "\n",
    "def mutate_dna(dna_string, num_mutations):\n",
    "    dna_list = list(dna_string)\n",
    "    dna_length = len(dna_list)\n",
    "    num_mutations = int(num_mutations * dna_length)\n",
    "    if num_mutations > dna_length:\n",
    "        raise ValueError(\"Number of mutations cannot exceed the length of the DNA string.\")\n",
    "\n",
    "    mutation_indices = random.sample(range(dna_length), num_mutations)\n",
    "\n",
    "    for index in mutation_indices:\n",
    "        current_base = dna_list[index]\n",
    "        valid_bases = ['A', 'U', 'C', 'G']\n",
    "        if current_base not in valid_bases:\n",
    "            continue\n",
    "        else:\n",
    "            valid_bases.remove(current_base) # Ensure the new base is different.\n",
    "            new_base = random.choice(valid_bases)\n",
    "            dna_list[index] = new_base\n",
    "\n",
    "    return \"\".join(dna_list)  # Convert back to a string"
   ]
  },
  {
   "cell_type": "code",
   "execution_count": 3,
   "id": "85309357-5e3c-403a-887d-c50ad001257a",
   "metadata": {},
   "outputs": [],
   "source": [
    "f = 'SILVA_138.2_SSURef_NR99_tax_silva_filtered_strict_2.fasta'"
   ]
  },
  {
   "cell_type": "code",
   "execution_count": 4,
   "id": "c2be4ec7-b7f7-48ae-914c-f846843c22f4",
   "metadata": {},
   "outputs": [
    {
     "name": "stderr",
     "output_type": "stream",
     "text": [
      "282395it [05:39, 832.89it/s]"
     ]
    },
    {
     "name": "stdout",
     "output_type": "stream",
     "text": [
      "Run finished!\n"
     ]
    },
    {
     "name": "stderr",
     "output_type": "stream",
     "text": [
      "\n"
     ]
    }
   ],
   "source": [
    "from tqdm import tqdm\n",
    "klen = 4\n",
    "kmers = {}\n",
    "total_seqs = 0\n",
    "\n",
    "for h,i in tqdm(enumerate(SeqIO.parse(f,'fasta'))):\n",
    "    id,d,s,L = str(i.id),str(i.description),str(i.seq).upper(),len(i.seq)\n",
    "    total_seqs += 1\n",
    "    for i in range(0,len(s)+1-klen*2):\n",
    "        kmer = s[i:i+klen]\n",
    "        next_mer = s[i+klen:i+klen*2]\n",
    "        if kmer not in kmers: kmers[kmer] = defaultdict(int)\n",
    "        kmers[kmer][next_mer] += 1\n",
    "    #if h == 100000: break\n",
    "\n",
    "print(\"Run finished!\")"
   ]
  },
  {
   "cell_type": "code",
   "execution_count": 56,
   "id": "a09113ea-f2a3-4252-8a5d-1db3e83da406",
   "metadata": {},
   "outputs": [
    {
     "name": "stdout",
     "output_type": "stream",
     "text": [
      "k-mer filtering step complete! Found 273 biomarkers!\n"
     ]
    }
   ],
   "source": [
    "bio_neighbor_mers = {}\n",
    "n_marker = 0\n",
    "\n",
    "for kmer,v in kmers.items():\n",
    "    # print(kmer)\n",
    "    total_nextmer_count = sum(v.values())\n",
    "    for next_mer,counts in v.items():\n",
    "        proportion = counts/total_nextmer_count\n",
    "        if proportion >= 0.1:\n",
    "            if kmer not in bio_neighbor_mers:\n",
    "                bio_neighbor_mers[kmer] = set()\n",
    "            bio_neighbor_mers[kmer].add(next_mer)\n",
    "            n_marker += 1\n",
    "            # print(kmer,next_mer,proportion)\n",
    "\n",
    "print(f\"k-mer filtering step complete! Found {n_marker} biomarkers!\")"
   ]
  },
  {
   "cell_type": "code",
   "execution_count": 7,
   "id": "d2c6b194-3834-4945-87c2-32bd96cdc768",
   "metadata": {},
   "outputs": [
    {
     "name": "stdout",
     "output_type": "stream",
     "text": [
      "26\n",
      "{'AAUU': {'GACG'}, 'GUUC': {'CCGG'}, 'CGCU': {'AGUA'}, 'UGUU': {'GGGU'}, 'GUUA': {'AGUC'}, 'UUUA': {'AUUC'}, 'UUAG': {'AUAC'}, 'UACA': {'AUGG'}, 'ACAU': {'GCAA'}, 'UAGA': {'UACC'}, 'UGUC': {'GUCA'}, 'UCCU': {'ACGG'}, 'UCAA': {'AGGA'}, 'GUUU': {'AAUU'}, 'AUUA': {'GAUA'}, 'CCUA': {'CGGG'}, 'CGUC': {'AGCU'}, 'CGAG': {'CGCA'}, 'UCGC': {'UAGU'}, 'GCAC': {'AAGC'}, 'CUCC': {'UACG'}, 'CGUU': {'CCCG'}, 'UUCC': {'CGGG'}, 'GCGC': {'AACC'}, 'ACAG': {'GAUU'}, 'UCUC': {'AGUU'}}\n"
     ]
    }
   ],
   "source": [
    "print(len(bio_neighbor_mers))\n",
    "print(bio_neighbor_mers)"
   ]
  },
  {
   "cell_type": "code",
   "execution_count": 17,
   "id": "f76be116",
   "metadata": {},
   "outputs": [],
   "source": [
    "def get_biomarker_stats(seq):\n",
    "    biomarkers_present = {}\n",
    "    mer_nextMer_present = 0\n",
    "    \n",
    "    for i in range(0,len(s)+1-klen*2):\n",
    "        kmer = seq[i:i+klen]\n",
    "        next_mer = seq[i+klen:i+klen*2]\n",
    "        if kmer in bio_neighbor_mers:\n",
    "            if next_mer in bio_neighbor_mers[kmer]:\n",
    "                if kmer not in biomarkers_present:\n",
    "                    biomarkers_present[kmer] = defaultdict(int)\n",
    "                mer_nextMer_present += 1\n",
    "                biomarkers_present[kmer][next_mer] += 1\n",
    "    return biomarkers_present, mer_nextMer_present"
   ]
  },
  {
   "cell_type": "code",
   "execution_count": 52,
   "id": "fe44172a-b820-4465-be1c-3bcd173c1219",
   "metadata": {},
   "outputs": [
    {
     "name": "stdout",
     "output_type": "stream",
     "text": [
      "282394\r"
     ]
    }
   ],
   "source": [
    "real,mutated = [],[]\n",
    "\n",
    "total = 0\n",
    "for h,i in enumerate(SeqIO.parse(f,'fasta')):\n",
    "    total = h\n",
    "    id,d,s,L = str(i.id),str(i.description),str(i.seq).upper(),len(i.seq)\n",
    "    mutated_seq = mutate_dna(s, 0.1)\n",
    "    biomarker_stats_real,biomarker_stats_real_total = get_biomarker_stats(s)\n",
    "    biomarker_stats_mutated,biomarker_stats_mutated_total = get_biomarker_stats(mutated_seq)\n",
    "    real.append(biomarker_stats_real_total)\n",
    "    mutated.append(biomarker_stats_mutated_total)\n",
    "    # print(biomarker_stats_real_total,biomarker_stats_mutated_total)\n",
    "    print(h,end='\\r')\n",
    "    #if h == 10000: break"
   ]
  },
  {
   "cell_type": "code",
   "execution_count": 53,
   "id": "231513b5-55f3-42fb-a399-47d3cfe906b2",
   "metadata": {},
   "outputs": [
    {
     "name": "stderr",
     "output_type": "stream",
     "text": [
      "/tmp/ipykernel_3623523/2336531353.py:1: MatplotlibDeprecationWarning: The 'labels' parameter of boxplot() has been renamed 'tick_labels' since Matplotlib 3.9; support for the old name will be dropped in 3.11.\n",
      "  plt.boxplot([real,mutated],labels = [\"Real\",\"Mutated\"])\n"
     ]
    },
    {
     "data": {
      "image/png": "[encoded data removed]",
      "text/plain": [
       "<Figure size 640x480 with 1 Axes>"
      ]
     },
     "metadata": {},
     "output_type": "display_data"
    }
   ],
   "source": [
    "plt.boxplot([real,mutated],labels = [\"Real\",\"Mutated\"])\n",
    "plt.show()"
   ]
  },
  {
   "cell_type": "code",
   "execution_count": 54,
   "id": "ea04a832",
   "metadata": {},
   "outputs": [
    {
     "data": {
      "image/png": "[encoded data removed]",
      "text/plain": [
       "<Figure size 640x480 with 1 Axes>"
      ]
     },
     "metadata": {},
     "output_type": "display_data"
    }
   ],
   "source": [
    "# thresholding ROC curve\n",
    "max_thresh = np.max(mutated)\n",
    "min_thresh = np.min(real)\n",
    "\n",
    "TPRs = []\n",
    "FPRs = []\n",
    "for thresh in range(min_thresh,max_thresh):\n",
    "    TPs = np.sum(np.array(real) >= thresh)\n",
    "    FPs = np.sum(np.array(mutated) >= thresh)\n",
    "    TPRs.append(TPs/total)\n",
    "    FPRs.append(FPs/total)\n",
    "\n",
    "# force standard ROC curve shape\n",
    "\"\"\"\n",
    "if 0.0 not in TPRs:\n",
    "    TPRs = TPRs + [0.0]\n",
    "    FPRs = FPRs + [0.0]\n",
    "\n",
    "if 1.0 not in FPRs:\n",
    "    FPRs = [1.0] + FPRs\n",
    "    TPRs = [1.0] + TPRs\"\"\"\n",
    "\n",
    "TPRs = np.array(TPRs)\n",
    "FPRs = np.array(FPRs)\n",
    "\n",
    "plt.plot(FPRs, TPRs)\n",
    "plt.xlabel('FPR')\n",
    "plt.ylabel('TPR')\n",
    "plt.title('ROC')\n",
    "plt.show()"
   ]
  },
  {
   "cell_type": "code",
   "execution_count": 55,
   "id": "eb5ad44b-4c9e-4de3-b79a-5472d714355d",
   "metadata": {},
   "outputs": [
    {
     "name": "stdout",
     "output_type": "stream",
     "text": [
      "268 0.06479245309744541 0.06269963242845103\n"
     ]
    }
   ],
   "source": [
    "# find threshold with closest to equal FPR and TPR\n",
    "score = np.abs(FPRs - (1-TPRs))\n",
    "best = np.argmin(score)\n",
    "print(min_thresh+best, 1-TPRs[best], FPRs[best])"
   ]
  },
  {
   "cell_type": "code",
   "execution_count": 314,
   "id": "73ffdf4a",
   "metadata": {},
   "outputs": [
    {
     "data": {
      "text/plain": [
       "0.942"
      ]
     },
     "execution_count": 314,
     "metadata": {},
     "output_type": "execute_result"
    }
   ],
   "source": [
    "TPRs[np.min(np.where(FPRs < 0.2))]"
   ]
  },
  {
   "cell_type": "code",
   "execution_count": 12,
   "id": "55aafcad",
   "metadata": {},
   "outputs": [
    {
     "name": "stdout",
     "output_type": "stream",
     "text": [
      "prop 0.10\tbest  130\tFNR 0.03\tFPR 0.02\n",
      "prop 0.20\tbest   17\tFNR 0.04\tFPR 0.03\n",
      "prop 0.30\tbest    1\tFNR 0.09\tFPR 0.37\n",
      "best prop and BA: 0.1 0.97475\n"
     ]
    }
   ],
   "source": [
    "# automate coarse proportion threshold tuning\n",
    "# score with balanced accuracy (BA) because it's easy to compute\n",
    "best_ba = 0.0\n",
    "best_thresh = 0.0\n",
    "for prop_thresh in np.arange(0.1, 1.0, 0.1):\n",
    "    bio_neighbor_mers = {}\n",
    "    n_marker = 0\n",
    "\n",
    "    for kmer,v in kmers.items():\n",
    "        # print(kmer)\n",
    "        total_nextmer_count = sum(v.values())\n",
    "        for next_mer,counts in v.items():\n",
    "            proportion = counts/total_nextmer_count\n",
    "            if proportion >= prop_thresh:\n",
    "                if kmer not in bio_neighbor_mers:\n",
    "                    bio_neighbor_mers[kmer] = set()\n",
    "                bio_neighbor_mers[kmer].add(next_mer)\n",
    "                n_marker += 1\n",
    "                # print(kmer,next_mer,proportion)\n",
    "\n",
    "    if n_marker == 0: break\n",
    "\n",
    "    real,mutated = [],[]\n",
    "\n",
    "    total = 0\n",
    "    for h,i in enumerate(SeqIO.parse(f,'fasta')):\n",
    "        total = h\n",
    "        id,d,s,L = str(i.id),str(i.description),str(i.seq).upper(),len(i.seq)\n",
    "        mutated_seq = mutate_dna(s, 0.1)\n",
    "        biomarker_stats_real,biomarker_stats_real_total = get_biomarker_stats(s)\n",
    "        biomarker_stats_mutated,biomarker_stats_mutated_total = get_biomarker_stats(mutated_seq)\n",
    "        real.append(biomarker_stats_real_total)\n",
    "        mutated.append(biomarker_stats_mutated_total)\n",
    "        # print(biomarker_stats_real_total,biomarker_stats_mutated_total)\n",
    "        if h == 2000: break\n",
    "\n",
    "    max_thresh = np.max(mutated)\n",
    "    min_thresh = np.min(real)\n",
    "\n",
    "    if max_thresh > min_thresh:\n",
    "        TPRs = []\n",
    "        FPRs = []\n",
    "        for thresh in range(min_thresh,max_thresh):\n",
    "            TPs = np.sum(np.array(real) >= thresh)\n",
    "            FPs = np.sum(np.array(mutated) >= thresh)\n",
    "            TPRs.append(TPs/total)\n",
    "            FPRs.append(FPs/total)\n",
    "\n",
    "        TPRs = np.array(TPRs)\n",
    "        FPRs = np.array(FPRs)\n",
    "        score = np.abs(FPRs - (1-TPRs))\n",
    "        best = np.argmin(score)\n",
    "        ba = (TPRs[best] + (1-FPRs[best])) / 2\n",
    "        print('prop {:.2f}\\tbest {:4}\\tFNR {:.2f}\\tFPR {:.2f}'.format(prop_thresh, min_thresh+best, 1-TPRs[best], FPRs[best]))\n",
    "    else:\n",
    "        print('prop {:.2f}\\tperfect, range {} - {}'.format(prop_thresh, max_thresh, min_thresh))\n",
    "        ba = 1.0\n",
    "\n",
    "    if ba > best_ba:\n",
    "        best_ba = ba\n",
    "        best_thresh = prop_thresh\n",
    "\n",
    "print('best prop and BA:', best_thresh, best_ba)"
   ]
  }
 ],
 "metadata": {
  "kernelspec": {
   "display_name": "Python 3",
   "language": "python",
   "name": "python3"
  },
  "language_info": {
   "codemirror_mode": {
    "name": "ipython",
    "version": 3
   },
   "file_extension": ".py",
   "mimetype": "text/x-python",
   "name": "python",
   "nbconvert_exporter": "python",
   "pygments_lexer": "ipython3",
   "version": "3.9.20"
  }
 },
 "nbformat": 4,
 "nbformat_minor": 5
}
