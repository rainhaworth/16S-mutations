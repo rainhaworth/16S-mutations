{
 "cells": [
  {
   "cell_type": "code",
   "execution_count": 116,
   "id": "7243e533-8a17-49cf-a669-e2aafa931843",
   "metadata": {},
   "outputs": [
    {
     "name": "stdout",
     "output_type": "stream",
     "text": [
      "Loaded libraries!\n"
     ]
    }
   ],
   "source": [
    "import random\n",
    "import math\n",
    "import numpy as np\n",
    "import itertools\n",
    "import re\n",
    "from collections import Counter,defaultdict\n",
    "from Bio import SeqIO\n",
    "import matplotlib.pyplot as plt\n",
    "\n",
    "print(\"Loaded libraries!\")"
   ]
  },
  {
   "cell_type": "code",
   "execution_count": 65,
   "id": "277a3e48-d66b-4add-be9b-b5a60d53cfca",
   "metadata": {},
   "outputs": [],
   "source": [
    "# Returns proportion of biomarker k-mers of interest that are found.\n",
    "\n",
    "def proportion_kmers_present(seq, biomarker_kmers):\n",
    "    present = 0\n",
    "    for k in biomarker_kmers:\n",
    "        if k in seq:\n",
    "            present += 1\n",
    "    return present/len(biomarker_kmers)"
   ]
  },
  {
   "cell_type": "code",
   "execution_count": 67,
   "id": "f0f22aba-d581-4fc9-8089-25d44a75d81f",
   "metadata": {},
   "outputs": [],
   "source": [
    "## Function finds biomarker k-mers in the SILVA 16S rRNA database sequences.\n",
    "## A biomarker k-mer has length klen and is found in some minimum proportion (min_freq_SILVA) of SILVA sequences.\n",
    "\n",
    "def find_biomarker_kmers(klen, min_freq_SILVA):\n",
    "    kmer_counts = defaultdict(int)\n",
    "    kmers_of_interest = set()\n",
    "    total_seqs = 0\n",
    "    \n",
    "    for h,i in enumerate(SeqIO.parse(f,'fasta')):\n",
    "        id,d,s,L = str(i.id),str(i.description),str(i.seq).upper().replace('T','U'),len(i.seq)\n",
    "        total_seqs += 1\n",
    "        kmers = set()\n",
    "        for i in range(0,len(s)+1-klen):\n",
    "            kmer = s[i:i+klen]\n",
    "            # rc_kmer = revcomp(kmer)\n",
    "            # canonical_kmer = min(kmer,rc_kmer)\n",
    "            kmers.add(kmer)\n",
    "        for k in kmers:\n",
    "            kmer_counts[k] += 1\n",
    "        print(\"Identifying biomarkers!\",total_seqs,end='\\r')\n",
    "    \n",
    "    for k,v in sorted(kmer_counts.items(),key=lambda x:x[1]):\n",
    "        if v/total_seqs > min_freq_SILVA:\n",
    "            kmers_of_interest.add(k)\n",
    "            # print(k,v/total_seqs)\n",
    "    \n",
    "    # print()\n",
    "    # print(f\"k-mer length used for analysis: {klen}\")\n",
    "    # print(f\"Observed frequency threshold: {min_freq_SILVA}\")\n",
    "    # print(f\"Sequences analyzed: {total_seqs}\")\n",
    "    # print(f\"Total k-mers observed: {len(kmer_counts)}\")\n",
    "    # print(f\"Total k-mers possible: {4**klen}\")\n",
    "    # print(f\"Number of biomarker k-mers identified: {len(kmers_of_interest)}\")\n",
    "    \n",
    "    return kmers_of_interest"
   ]
  },
  {
   "cell_type": "code",
   "execution_count": 69,
   "id": "d4619acf-32c1-4605-b9a0-65c69ac2d448",
   "metadata": {},
   "outputs": [],
   "source": [
    "# Function mutates a specified number of nucleotides (num_mutations) in a RNA string to a different base.\n",
    "\n",
    "def mutate_dna(rna_string, num_mutations):\n",
    "    rna_list = list(rna_string)\n",
    "    rna_length = len(rna_list)\n",
    "    if num_mutations > rna_length:\n",
    "        raise ValueError(\"Number of mutations cannot exceed the length of the RNA string.\")\n",
    "\n",
    "    mutation_indices = random.sample(range(rna_length), num_mutations)\n",
    "\n",
    "    for index in mutation_indices:\n",
    "        current_base = rna_list[index]\n",
    "        valid_bases = ['A', 'U', 'C', 'G']\n",
    "        if current_base not in valid_bases:\n",
    "            continue\n",
    "        else:\n",
    "            valid_bases.remove(current_base) # Ensure the new base is different.\n",
    "            new_base = random.choice(valid_bases)\n",
    "            rna_list[index] = new_base\n",
    "\n",
    "    return \"\".join(rna_list)  # Convert back to a string"
   ]
  },
  {
   "cell_type": "code",
   "execution_count": 71,
   "id": "351b5a0b-4f33-4113-8e12-ee4ed84bfe07",
   "metadata": {},
   "outputs": [],
   "source": [
    "# Function returns the reverse complement of a RNA string.\n",
    "\n",
    "def revcomp(seq):\n",
    "    revcomp = ''\n",
    "    for i in seq[::-1]:\n",
    "        revcomp += {'A':'U','C':'G','G':'C','U':'A'}.get(i,i)\n",
    "    return revcomp"
   ]
  },
  {
   "cell_type": "code",
   "execution_count": 73,
   "id": "97d7fafe-8a98-4060-8514-b1cb52a8ea7a",
   "metadata": {},
   "outputs": [],
   "source": [
    "# Identifies the number of A, C, G, and U homopolymers of some minimum length (shortest_homopolymer_len) in a RNA string.\n",
    "\n",
    "def find_homopolymer(seq,L):\n",
    "    homopolymers = [0,0,0,0]\n",
    "    i = 0\n",
    "    shortest_homopolymer_len = 4\n",
    "    \n",
    "    while i < L - shortest_homopolymer_len + 1:\n",
    "        base = seq[i]\n",
    "        homopolymer = base\n",
    "        for j in range(i+1,L):\n",
    "            if seq[j] == base:\n",
    "                homopolymer += base\n",
    "            else:\n",
    "                break\n",
    "        i = j\n",
    "        if len(homopolymer) >= shortest_homopolymer_len:\n",
    "            NT = list(set(homopolymer))[0]\n",
    "            if NT == 'A': homopolymers[0] += 1\n",
    "            elif NT == 'C': homopolymers[1] += 1\n",
    "            elif NT == 'G': homopolymers[2] += 1\n",
    "            elif NT == 'U': homopolymers[3] += 1\n",
    "    \n",
    "    return homopolymers"
   ]
  },
  {
   "cell_type": "code",
   "execution_count": 103,
   "id": "b114b520-ced1-4a62-a3a1-ee802669b692",
   "metadata": {},
   "outputs": [],
   "source": [
    "# Returns various statistics about the base composition of a RNA string e.g., GC content, number of A's, C's, G's, and U's.\n",
    "\n",
    "def seq_composition(s,L):\n",
    "    nts_counts = Counter(s)\n",
    "    A = nts_counts['A']\n",
    "    C = nts_counts['C']\n",
    "    G = nts_counts['G']\n",
    "    U = nts_counts['U']\n",
    "    GC = (C+G)/L\n",
    "    return [L,A,C,G,U,A/C,A/G,A/U,C/G,C/U,G/U,GC]"
   ]
  },
  {
   "cell_type": "code",
   "execution_count": 132,
   "id": "20a7428d-b38e-47ce-9ffa-fd3f724c8291",
   "metadata": {},
   "outputs": [],
   "source": [
    "# Calculates the Shannon entropy of a list of numbers.\n",
    "\n",
    "def shannon_entropy(kmer_counts):\n",
    "    kmer_counts = [x for x in kmer_counts if x != 0]\n",
    "    \n",
    "    total_kmers = sum(kmer_counts)\n",
    "    entropy = 0.0\n",
    "    \n",
    "    for count in kmer_counts:\n",
    "        probability = count / total_kmers\n",
    "        entropy -= probability * math.log2(probability)\n",
    "    \n",
    "    return entropy"
   ]
  },
  {
   "cell_type": "code",
   "execution_count": 148,
   "id": "39a8b965-aad6-4a22-b051-b395b84a3fc4",
   "metadata": {},
   "outputs": [],
   "source": [
    "# Calculates the proportion of k-mers where the k-mer and its reverse complement are present in a RNA string.\n",
    "\n",
    "def kmer_parity(seq,L):\n",
    "    results = []\n",
    "    results_entropy = []\n",
    "    for klen in range(1,10,2):\n",
    "        kmer_counts = defaultdict(list)\n",
    "        individual_kmer_counts = []\n",
    "        for i in range(0,len(seq)+1-klen):\n",
    "            kmer = seq[i:i+klen]\n",
    "            rc_kmer = revcomp(kmer)\n",
    "            canonical_kmer = min(kmer,rc_kmer)\n",
    "            if canonical_kmer not in kmer_counts:\n",
    "                kmer_counts[canonical_kmer] = [0,0]\n",
    "            if kmer == canonical_kmer:\n",
    "                kmer_counts[canonical_kmer][0] += 1\n",
    "            else:\n",
    "                kmer_counts[canonical_kmer][1] += 1\n",
    "        dna_diff = 0\n",
    "        for k,v in kmer_counts.items():\n",
    "            dna_diff += abs(v[0]-v[1])\n",
    "            individual_kmer_counts += v\n",
    "        results.append(1 - dna_diff/L)\n",
    "        results_entropy.append(shannon_entropy(individual_kmer_counts))\n",
    "    return results, results_entropy"
   ]
  },
  {
   "cell_type": "code",
   "execution_count": 79,
   "id": "72ae817e-ba4a-4f8b-949e-dba7ae928f86",
   "metadata": {},
   "outputs": [],
   "source": [
    "def find_conserved_nucleotide_fingerprint(query_sequence, nt_sequence):\n",
    "    \"\"\"\n",
    "    Finds if a subsequence (nt_sequence) occurs in a query_sequence,\n",
    "    allowing for gaps (extra letters) between the subsequence's letters.\n",
    "\n",
    "    Args:\n",
    "        query_sequence (str): The longer string to search within.\n",
    "        nt_sequence (str): The subsequence to find.\n",
    "\n",
    "    Returns:\n",
    "             The indices of the subsequence in the query_sequence if found,\n",
    "             and the proportion of observed conserved nucleotides.\n",
    "    \"\"\"\n",
    "\n",
    "    found_univ_conserved_nts = []\n",
    "    start = 0\n",
    "\n",
    "    for i in nt_sequence:\n",
    "        loci = query_sequence.find(i,start,len(query_sequence)+1)\n",
    "        if loci != -1:\n",
    "            found_univ_conserved_nts.append(start)\n",
    "            start = loci + 1 + len(i) # adjust subsequence to search for next conserved motive in based upon position of last found motif\n",
    "        else: continue\n",
    "    return len(found_univ_conserved_nts)/len(nt_sequence),found_univ_conserved_nts"
   ]
  },
  {
   "cell_type": "code",
   "execution_count": 150,
   "id": "efd9638c-5a30-44a2-b8f1-1a75789a0760",
   "metadata": {},
   "outputs": [],
   "source": [
    "# Returns the number of universal 16S rRNA primers (from 16S rRNA wikipedia page) found in an RNA string.\n",
    "\n",
    "def find_universal_primers(s):\n",
    "    \n",
    "    universal_primers = ['AGAGUUUGAUCCUGGCUCAG','AGAGUUUGAUC[AC]UGGCUCAG','ACUGCUGC[GC][CU]CCCGUAGGAGUCU','GACUCCUACGGGAGGC[AU]GCAG','GUAUUACCGCGGCUGCUGG','GUGCCAGC[AC]GCCGCGGUAA','GGAUUAGAUACCCUGGUA','GGACUAC[ACG][GC]GGGUAUCUAAU','CCGUCAAUUCCUUU[AG]AGUUU','UAAAACU[CU]AAA[GU]GAAUUGACGGG','[CU]AACGAGCGCAACCC','GGGUUGCGCUCGUUG','GGUUACCUUGUUACGACUU','CGGUUACCUUGUUACGACUU']\n",
    "    matches = set()\n",
    "    \n",
    "    for motif in universal_primers:\n",
    "        for match in re.finditer(motif, s):\n",
    "            matches.add(match[0])\n",
    "    \n",
    "    return len(matches)"
   ]
  },
  {
   "cell_type": "code",
   "execution_count": 83,
   "id": "3ebb052f-7739-49d4-8fa6-dc3f8cea3239",
   "metadata": {},
   "outputs": [],
   "source": [
    "# Returns a list with the universally conserved nucleotides of the 16S rRNA.\n",
    "# Consecutive conserved nucleotides form a single string in the list.\n",
    "\n",
    "def universally_conserved_nucleotide_fingerprint():\n",
    "    universally_conserved = {'U':13,'A':51,'C':54,'A':55,'U':56,'A':109,'A':151,'A':160,'A':243,'U':244,'A':246,'A':282,'U':323,'A':344,'G':346,'G':347,'C':355,'A':356,'G':357,'G':362,'A':364,'U':368,'A':389,'A':397,'U':405,'A':499,'G':505,'A':509,'G':515,'G':517,'C':519,'A':520,'G':521,'C':522,'G':527,'C':528,'G':530,'A':532,'A':533,'C':536,'U':565,'G':566,'U':571,'G':581,'A':676,'A':695,'A':704,'A':715,'G':725,'G':727,'C':732,'A':781,'A':787,'U':788,'A':790,'G':791,'A':792,'C':795,'U':801,'A':802,'A':815,'U':820,'A':864,'A':865,'G':885,'A':889,'U':891,'A':892,'C':899,'A':900,'A':901,'A':908,'A':909,'U':911,'A':914,'A':915,'A':919,'U':920,'G':922,'C':924,'G':925,'G':926,'C':936,'G':944,'U':956,'A':958,'A':959,'U':960,'C':972,'C':984,'G':1050,'U':1052,'G':1053,'C':1054,'A':1055,'G':1057,'G':1058,'U':1073,'A':1093,'U':1095,'U':1199,'G':1221,'A':1227,'C':1237,'U':1315,'G':1316,'A':1318,'A':1319,'G':1337,'G':1338,'A':1339,'U':1341,'G':1347,'U':1348,'A':1349,'G':1373,'G':1379,'C':1382,'U':1391,'G':1392,'A':1394,'C':1395,'C':1397,'C':1399,'C':1403,'G':1405,'U':1406,'A':1418,'A':1492,'A':1493,'G':1494,'U':1495,'C':1496,'C':1501,'G':1504,'G':1505,'C':1509,'U':1512,'G':1517,'G':1526}\n",
    "    nt_sequence = 'UACAUAAAAUAAUAGGCAGGAUAAUAGAGGCAGCGCGAACUGUGAAAAGGCAAUAGACUAAUAAGAUACAAAAUAAAUGCGGCGUAAUCCGUGCAGGUAUUGACUGAAGGAUGUAGGCUGACCCCGUAAAGUCCGGCUGG'\n",
    "    loci_sequence = [13,51,54,55,56,109,151,160,243,244,246,282,323,344,346,347,355,356,357,362,364,368,389,397,405,499,505,509,515,517,519,520,521,522,527,528,530,532,533,536,565,566,571,581,676,695,704,715,725,727,732,781,787,788,790,791,792,795,801,802,815,820,864,865,885,889,891,892,899,900,901,908,909,911,914,915,919,920,922,924,925,926,936,944,956,958,959,960,972,984,1050,1052,1053,1054,1055,1057,1058,1073,1093,1095,1199,1221,1227,1237,1315,1316,1318,1319,1337,1338,1339,1341,1347,1348,1349,1373,1379,1382,1391,1392,1394,1395,1397,1399,1403,1405,1406,1418,1492,1493,1494,1495,1496,1501,1504,1505,1509,1512,1517,1526]\n",
    "    \n",
    "    ref_seq_N = ''\n",
    "    \n",
    "    for i in range(1, 1501):\n",
    "        if i not in loci_sequence:\n",
    "            ref_seq_N += 'N'\n",
    "        else:\n",
    "            ref_seq_N += nt_sequence[loci_sequence.index(i)]\n",
    "    \n",
    "    clustered_nt_sequence = []\n",
    "    \n",
    "    for i in ref_seq_N.split('N'):\n",
    "        if i != '': clustered_nt_sequence.append(i)\n",
    "    \n",
    "    # print(ref_seq_N)\n",
    "    # print(clustered_nt_sequence)\n",
    "    \n",
    "    return clustered_nt_sequence"
   ]
  },
  {
   "cell_type": "code",
   "execution_count": 57,
   "id": "5a985e89-93e8-4adb-bdf4-6170e262fb3a",
   "metadata": {},
   "outputs": [
    {
     "name": "stdout",
     "output_type": "stream",
     "text": [
      "Identified 297 biomarker k-mers!\n"
     ]
    }
   ],
   "source": [
    "# Runs program that collects biomarker k-mers and the universally conserved nucleotide fingerprint.\n",
    "# Only needs to be run once for a specified set of parameters for the biomarker search.\n",
    "\n",
    "kmers_of_interest = find_biomarker_kmers(klen = 11, min_freq_SILVA = 0.5)\n",
    "print(f\"Identified {len(kmers_of_interest)} biomarker k-mers!\")\n",
    "\n",
    "conserved_nt_fingerprint = universally_conserved_nucleotide_fingerprint()"
   ]
  },
  {
   "cell_type": "code",
   "execution_count": 160,
   "id": "c7c7774d-300d-4884-94bf-4518ac52b73e",
   "metadata": {},
   "outputs": [],
   "source": [
    "# Fasta file of 16S rRNA sequences that will be analyzed.\n",
    "# State variable indicates if sequences are \"real\" or \"mutated.\"\n",
    "# If mutated it should include mutation rate e.g., \"Mutated_0.1\"\n",
    "\n",
    "# f = 'SILVA_138.2_SSURef_NR99_tax_silva_filtered.fasta'\n",
    "# state = \"Real\"\n",
    "\n",
    "f = 'SILVA_138.2_SSURef_NR99_tax_silva_filtered.mutated_0.1.fasta'\n",
    "state = 'Mutated_0.1'"
   ]
  },
  {
   "cell_type": "code",
   "execution_count": null,
   "id": "3ef9628b-a2ab-40f9-bdcd-46659bb096ed",
   "metadata": {},
   "outputs": [
    {
     "name": "stdout",
     "output_type": "stream",
     "text": [
      "23326"
     ]
    }
   ],
   "source": [
    "# Analyzes input fasta file.\n",
    "\n",
    "with open(f\"{f}_results.txt\",'w') as out:\n",
    "    out.write(f'SeqID\\tState\\tSeqLen\\tA\\tC\\tG\\tU\\tA/C\\tA/G\\tA/U\\tC/G\\tC/U\\tG/U\\tGC\\tPR2_1mer\\tPR2_3mer\\tPR2_5mer\\tPR2_7mer\\tPR2_9mer\\tEntropy_1mer\\tEntropy_3mer\\tEntropy_5mer\\tEntropy_7mer\\tEntropy_9mer\\tHomopolymerA\\tHomopolymerC\\tHomopolymerG\\tHomopolymerU\\tProp_conserved_nt_fingerprint\\tNum_universal_primers\\tProp_biomarkers\\tSeq\\n')\n",
    "    for h,i in enumerate(SeqIO.parse(f,'fasta')):\n",
    "        id,d,s,L = str(i.id),str(i.description),str(i.seq).upper(),len(i.seq)\n",
    "        seq_homopolymers = find_homopolymer(s,L)\n",
    "        prop_conserved_nt_fingerprint = find_conserved_nucleotide_fingerprint(s, conserved_nt_fingerprint)[0]\n",
    "        num_universal_primers = find_universal_primers(s)\n",
    "        prop_biomarkers_found = proportion_kmers_present(s,kmers_of_interest)\n",
    "        kmer_symmetry,kmer_entropy = kmer_parity(s,L)\n",
    "        seq_stats = \"\\t\".join([d,state] + list(map(str,seq_composition(s,L))) + list(map(str,kmer_symmetry)) + list(map(str,kmer_entropy)) + list(map(str,seq_homopolymers)) + [str(prop_conserved_nt_fingerprint),str(num_universal_primers),str(prop_biomarkers_found),s])\n",
    "        out.write(f'{seq_stats}\\n')\n",
    "        print(h,end = '\\r')\n",
    "        # if h == 1000: break\n",
    "\n",
    "print(\"Analysis complete!\")"
   ]
  },
  {
   "cell_type": "code",
   "execution_count": null,
   "id": "4ef6b51f-bcf7-495b-8d42-c46602bf322b",
   "metadata": {},
   "outputs": [],
   "source": []
  }
 ],
 "metadata": {
  "kernelspec": {
   "display_name": "Python [conda env:base] *",
   "language": "python",
   "name": "conda-base-py"
  },
  "language_info": {
   "codemirror_mode": {
    "name": "ipython",
    "version": 3
   },
   "file_extension": ".py",
   "mimetype": "text/x-python",
   "name": "python",
   "nbconvert_exporter": "python",
   "pygments_lexer": "ipython3",
   "version": "3.12.7"
  }
 },
 "nbformat": 4,
 "nbformat_minor": 5
}
