{
 "cells": [
  {
   "cell_type": "code",
   "execution_count": 2,
   "id": "f25985ec-ef02-401a-987f-517bd3f1aa83",
   "metadata": {},
   "outputs": [
    {
     "name": "stdout",
     "output_type": "stream",
     "text": [
      "Loaded libraries!\n"
     ]
    }
   ],
   "source": [
    "# This script takes an input fasta file and outputs a fasta file where each sequence from the input is mutated at a user provided rate.\n",
    "# The mutation rate ranges from 0 to 1. A value of 0.5 means that 50% of the nucleotides in each sequence will be mutated to a different base.\n",
    "\n",
    "import random\n",
    "from Bio import SeqIO\n",
    "\n",
    "print(\"Loaded libraries!\")"
   ]
  },
  {
   "cell_type": "code",
   "execution_count": 20,
   "id": "9e6f8b1d-b127-4df1-ac76-c0da6713cafe",
   "metadata": {},
   "outputs": [],
   "source": [
    "# This function mutates num_mutations number of mutations to a diferent nucleotide in a given sequence\n",
    "\n",
    "def mutate_dna(dna_string, mutation_rate):\n",
    "    dna_list = list(dna_string)\n",
    "    dna_length = len(dna_list)\n",
    "    num_mutations = int(mutation_rate*dna_length)\n",
    "    if num_mutations > dna_length:\n",
    "        raise ValueError(\"Number of mutations cannot exceed the length of the DNA string.\")\n",
    "\n",
    "    mutation_indices = random.sample(range(dna_length), num_mutations)\n",
    "\n",
    "    for index in mutation_indices:\n",
    "        current_base = dna_list[index]\n",
    "        valid_bases = ['A', 'C', 'G', 'U']\n",
    "        if current_base not in valid_bases:\n",
    "            continue\n",
    "        else:\n",
    "            valid_bases.remove(current_base) # Ensure the new base is different.\n",
    "            new_base = random.choice(valid_bases)\n",
    "            dna_list[index] = new_base\n",
    "\n",
    "    return \"\".join(dna_list)  # Convert back to a string"
   ]
  },
  {
   "cell_type": "code",
   "execution_count": 22,
   "id": "f5f46c1f-79c9-4cba-8154-1aa1eea110d3",
   "metadata": {},
   "outputs": [],
   "source": [
    "f = 'SILVA_138.2_SSURef_NR99_tax_silva_filtered.fasta'"
   ]
  },
  {
   "cell_type": "code",
   "execution_count": 28,
   "id": "65e4965f-d880-47cd-a499-5a772e991ba7",
   "metadata": {},
   "outputs": [
    {
     "name": "stdout",
     "output_type": "stream",
     "text": [
      "397475\r"
     ]
    }
   ],
   "source": [
    "mutation_rate = 0.01\n",
    "out_file = f.replace(\".fasta\",f\".mutated_{mutation_rate}.fasta\")\n",
    "\n",
    "with open(f\"{out_file}\",'w') as out:\n",
    "    for h,i in enumerate(SeqIO.parse(f,'fasta')):\n",
    "        d,s,L = str(i.description),str(i.seq).upper(),len(i.seq)\n",
    "        mutated_seq = mutate_dna(s, mutation_rate)\n",
    "        out.write(f'>{d}\\n{mutated_seq}\\n')\n",
    "        print(h,end='\\r')"
   ]
  },
  {
   "cell_type": "code",
   "execution_count": null,
   "id": "3261c4ad-6c86-41a0-8906-0375f33ae315",
   "metadata": {},
   "outputs": [],
   "source": []
  }
 ],
 "metadata": {
  "kernelspec": {
   "display_name": "Python [conda env:base] *",
   "language": "python",
   "name": "conda-base-py"
  },
  "language_info": {
   "codemirror_mode": {
    "name": "ipython",
    "version": 3
   },
   "file_extension": ".py",
   "mimetype": "text/x-python",
   "name": "python",
   "nbconvert_exporter": "python",
   "pygments_lexer": "ipython3",
   "version": "3.12.7"
  }
 },
 "nbformat": 4,
 "nbformat_minor": 5
}
