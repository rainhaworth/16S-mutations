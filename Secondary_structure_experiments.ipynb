{
 "cells": [
  {
   "cell_type": "code",
   "execution_count": 49,
   "id": "4ffa5d25-9788-4aaa-a33d-1d47fce0ef6f",
   "metadata": {},
   "outputs": [
    {
     "name": "stdout",
     "output_type": "stream",
     "text": [
      "Loaded Python libraries.\n"
     ]
    }
   ],
   "source": [
    "import RNA\n",
    "from Bio import SeqIO\n",
    "import matplotlib.pyplot as plt\n",
    "\n",
    "print(\"Loaded Python libraries.\")"
   ]
  },
  {
   "cell_type": "code",
   "execution_count": 73,
   "id": "1fb29af6-11c7-47c8-bf0c-7104b7d9f17d",
   "metadata": {},
   "outputs": [],
   "source": [
    "def predict_mfe(rna_sequence):\n",
    "    helix_length_threshold = 10\n",
    "    \n",
    "    # Create a fold compound object\n",
    "    fc = RNA.fold_compound(rna_sequence)\n",
    "    \n",
    "    # Compute minimum free energy and corresponding secondary structure\n",
    "    structure, mfe = fc.mfe()\n",
    "    base_pairs = get_base_pairs(structure)\n",
    "    helices = get_helices(base_pairs)\n",
    "\n",
    "    # print(f\"Structure: {structure}\")\n",
    "    # print(f\"MFE: {mfe} kcal/mol\")\n",
    "    # print(f\"Number of helices: {len(helices)}\")\n",
    "    \n",
    "    reported_helices = [len(helix) for helix in helices if len(helix) >= helix_length_threshold]\n",
    "    \n",
    "    return structure, mfe, len(reported_helices)"
   ]
  },
  {
   "cell_type": "code",
   "execution_count": 75,
   "id": "d4c33eeb-4bd1-4e6d-9070-737426840d8d",
   "metadata": {},
   "outputs": [],
   "source": [
    "def get_helices(base_pairs):\n",
    "    if not base_pairs:\n",
    "        return []\n",
    "\n",
    "    helices = []\n",
    "    current_helix = [base_pairs[0]]\n",
    "\n",
    "    for i in range(1, len(base_pairs)):\n",
    "        prev = base_pairs[i - 1]\n",
    "        curr = base_pairs[i]\n",
    "\n",
    "        # Check if it's part of the same helix (i.e., consecutive base pairs)\n",
    "        if curr[0] == prev[0] + 1 and curr[1] == prev[1] - 1:\n",
    "            current_helix.append(curr)\n",
    "        else:\n",
    "            helices.append(current_helix)\n",
    "            current_helix = [curr]\n",
    "\n",
    "    helices.append(current_helix)\n",
    "    return helices"
   ]
  },
  {
   "cell_type": "code",
   "execution_count": 77,
   "id": "dc30c0c8-cb13-4a44-a03a-14b6cd2f38d6",
   "metadata": {},
   "outputs": [],
   "source": [
    "def get_base_pairs(dot_bracket):\n",
    "    stack = []\n",
    "    pairs = []\n",
    "    for i, char in enumerate(dot_bracket):\n",
    "        if char == '(':\n",
    "            stack.append(i)\n",
    "        elif char == ')':\n",
    "            j = stack.pop()\n",
    "            pairs.append((j, i))\n",
    "    return sorted(pairs)"
   ]
  },
  {
   "cell_type": "code",
   "execution_count": 79,
   "id": "d6c836bb-b5e6-4c65-9028-1cf248e1c83e",
   "metadata": {},
   "outputs": [],
   "source": [
    "# Fasta file of 16S rRNA sequences that will be analyzed.\n",
    "# State variable indicates if sequences are \"real\" or \"mutated.\"\n",
    "# If mutated it should include mutation rate e.g., \"Mutated_0.1\"\n",
    "\n",
    "f_real = 'SILVA_138.2_SSURef_NR99_tax_silva_filtered.fasta'\n",
    "\n",
    "f_mutated_10 = 'SILVA_138.2_SSURef_NR99_tax_silva_filtered.mutated_0.1.fasta'\n",
    "\n",
    "f_mutated_1 = 'SILVA_138.2_SSURef_NR99_tax_silva_filtered.mutated_0.01.fasta'"
   ]
  },
  {
   "cell_type": "code",
   "execution_count": 89,
   "id": "9d0e3f38-a1fb-473b-a81a-41932fc7c370",
   "metadata": {},
   "outputs": [
    {
     "name": "stdout",
     "output_type": "stream",
     "text": [
      "Finished processing real seqs!\n",
      "Finished mutated seqs 0.1!\n",
      "Finished mutated seqs 0.01!\n"
     ]
    }
   ],
   "source": [
    "num_seqs_to_process = 100\n",
    "\n",
    "results_real = []\n",
    "results_mutated_10 = []\n",
    "results_mutated_1 = []\n",
    "\n",
    "helices_real = []\n",
    "helices_mutated_10 = []\n",
    "helices_mutated_1 = []\n",
    "\n",
    "for h,i in enumerate(SeqIO.parse(f_real,'fasta')):\n",
    "    id,d,s,L = str(i.id),str(i.description),str(i.seq),len(i.seq)\n",
    "    structure, mfe, helices = predict_mfe(s)\n",
    "    helices_real.append(helices)\n",
    "    results_real.append(mfe)\n",
    "    print(f\"Real {h}...\", end = '\\r')\n",
    "    if h == num_seqs_to_process:\n",
    "        break\n",
    "\n",
    "print(\"Finished processing real seqs!\")\n",
    "\n",
    "for h,i in enumerate(SeqIO.parse(f_mutated_10,'fasta')):\n",
    "    id,d,s,L = str(i.id),str(i.description),str(i.seq),len(i.seq)\n",
    "    structure, mfe, helices = predict_mfe(s)\n",
    "    helices_mutated_10.append(helices)\n",
    "    results_mutated_10.append(mfe)\n",
    "    print(f\"Mutated 0.1 {h}...\", end = '\\r')\n",
    "    if h == num_seqs_to_process:\n",
    "        break\n",
    "\n",
    "print(\"Finished mutated seqs 0.1!\")\n",
    "\n",
    "for h,i in enumerate(SeqIO.parse(f_mutated_1,'fasta')):\n",
    "    id,d,s,L = str(i.id),str(i.description),str(i.seq),len(i.seq)\n",
    "    structure, mfe, helices = predict_mfe(s)\n",
    "    helices_mutated_1.append(helices)\n",
    "    results_mutated_1.append(mfe)\n",
    "    print(f\"Mutated 0.01 {h}...\", end = '\\r')\n",
    "    if h == num_seqs_to_process:\n",
    "        break\n",
    "\n",
    "print(\"Finished mutated seqs 0.01!\")"
   ]
  },
  {
   "cell_type": "code",
   "execution_count": 91,
   "id": "88cebe83-d639-4a58-ac62-97b3b4097f71",
   "metadata": {},
   "outputs": [
    {
     "name": "stderr",
     "output_type": "stream",
     "text": [
      "/var/folders/kt/6gwgr2_94396xjn5f2hk_3940000gn/T/ipykernel_87401/2229996685.py:1: MatplotlibDeprecationWarning: The 'labels' parameter of boxplot() has been renamed 'tick_labels' since Matplotlib 3.9; support for the old name will be dropped in 3.11.\n",
      "  plt.boxplot([results_real,results_mutated_10,results_mutated_1],labels = [\"Real\",\"Mutated_0.1\",\"Mutated_0.01\"])\n"
     ]
    },
    {
     "data": {
      "text/plain": [
       "{'whiskers': [<matplotlib.lines.Line2D at 0x12b669c70>,\n",
       "  <matplotlib.lines.Line2D at 0x12b669f10>,\n",
       "  <matplotlib.lines.Line2D at 0x12b66aea0>,\n",
       "  <matplotlib.lines.Line2D at 0x12b66b140>,\n",
       "  <matplotlib.lines.Line2D at 0x12b698110>,\n",
       "  <matplotlib.lines.Line2D at 0x12b6983b0>],\n",
       " 'caps': [<matplotlib.lines.Line2D at 0x12b66a1b0>,\n",
       "  <matplotlib.lines.Line2D at 0x12b66a360>,\n",
       "  <matplotlib.lines.Line2D at 0x12b66b410>,\n",
       "  <matplotlib.lines.Line2D at 0x12b66b6e0>,\n",
       "  <matplotlib.lines.Line2D at 0x12b6986b0>,\n",
       "  <matplotlib.lines.Line2D at 0x12b698950>],\n",
       " 'boxes': [<matplotlib.lines.Line2D at 0x12b669a00>,\n",
       "  <matplotlib.lines.Line2D at 0x12b66ab70>,\n",
       "  <matplotlib.lines.Line2D at 0x12b66be00>],\n",
       " 'medians': [<matplotlib.lines.Line2D at 0x12b66a660>,\n",
       "  <matplotlib.lines.Line2D at 0x12b66b980>,\n",
       "  <matplotlib.lines.Line2D at 0x12b698bf0>],\n",
       " 'fliers': [<matplotlib.lines.Line2D at 0x12b66a8d0>,\n",
       "  <matplotlib.lines.Line2D at 0x12b66bc20>,\n",
       "  <matplotlib.lines.Line2D at 0x12b698ec0>],\n",
       " 'means': []}"
      ]
     },
     "execution_count": 91,
     "metadata": {},
     "output_type": "execute_result"
    },
    {
     "data": {
      "image/png": "[encoded data removed]",
      "text/plain": [
       "<Figure size 640x480 with 1 Axes>"
      ]
     },
     "metadata": {},
     "output_type": "display_data"
    }
   ],
   "source": [
    "plt.boxplot([results_real,results_mutated_10,results_mutated_1],labels = [\"Real\",\"Mutated_0.1\",\"Mutated_0.01\"])"
   ]
  },
  {
   "cell_type": "code",
   "execution_count": 93,
   "id": "7fd00e00-d8f6-4bdb-9f2f-260ee3c2b24a",
   "metadata": {},
   "outputs": [
    {
     "name": "stderr",
     "output_type": "stream",
     "text": [
      "/var/folders/kt/6gwgr2_94396xjn5f2hk_3940000gn/T/ipykernel_87401/3499524183.py:1: MatplotlibDeprecationWarning: The 'labels' parameter of boxplot() has been renamed 'tick_labels' since Matplotlib 3.9; support for the old name will be dropped in 3.11.\n",
      "  plt.boxplot([helices_real,helices_mutated_10,helices_mutated_1],labels = [\"Real\",\"Mutated_0.1\",\"Mutated_0.01\"])\n"
     ]
    },
    {
     "data": {
      "text/plain": [
       "{'whiskers': [<matplotlib.lines.Line2D at 0x12b6d36e0>,\n",
       "  <matplotlib.lines.Line2D at 0x12b6d39b0>,\n",
       "  <matplotlib.lines.Line2D at 0x12b70c8f0>,\n",
       "  <matplotlib.lines.Line2D at 0x12b70cbc0>,\n",
       "  <matplotlib.lines.Line2D at 0x12b70d940>,\n",
       "  <matplotlib.lines.Line2D at 0x12b70dee0>],\n",
       " 'caps': [<matplotlib.lines.Line2D at 0x12b6d3c20>,\n",
       "  <matplotlib.lines.Line2D at 0x12b6d3da0>,\n",
       "  <matplotlib.lines.Line2D at 0x12b70cec0>,\n",
       "  <matplotlib.lines.Line2D at 0x12b70d130>,\n",
       "  <matplotlib.lines.Line2D at 0x12b70e1b0>,\n",
       "  <matplotlib.lines.Line2D at 0x12b70e480>],\n",
       " 'boxes': [<matplotlib.lines.Line2D at 0x12b6d3410>,\n",
       "  <matplotlib.lines.Line2D at 0x12b70c5f0>,\n",
       "  <matplotlib.lines.Line2D at 0x12b70d970>],\n",
       " 'medians': [<matplotlib.lines.Line2D at 0x12b70c0e0>,\n",
       "  <matplotlib.lines.Line2D at 0x12b70d400>,\n",
       "  <matplotlib.lines.Line2D at 0x12b70e720>],\n",
       " 'fliers': [<matplotlib.lines.Line2D at 0x12b70c380>,\n",
       "  <matplotlib.lines.Line2D at 0x12b70d6a0>,\n",
       "  <matplotlib.lines.Line2D at 0x12b70ea20>],\n",
       " 'means': []}"
      ]
     },
     "execution_count": 93,
     "metadata": {},
     "output_type": "execute_result"
    },
    {
     "data": {
      "image/png": "[encoded data removed]",
      "text/plain": [
       "<Figure size 640x480 with 1 Axes>"
      ]
     },
     "metadata": {},
     "output_type": "display_data"
    }
   ],
   "source": [
    "plt.boxplot([helices_real,helices_mutated_10,helices_mutated_1],labels = [\"Real\",\"Mutated_0.1\",\"Mutated_0.01\"])"
   ]
  }
 ],
 "metadata": {
  "kernelspec": {
   "display_name": "Python [conda env:base] *",
   "language": "python",
   "name": "conda-base-py"
  },
  "language_info": {
   "codemirror_mode": {
    "name": "ipython",
    "version": 3
   },
   "file_extension": ".py",
   "mimetype": "text/x-python",
   "name": "python",
   "nbconvert_exporter": "python",
   "pygments_lexer": "ipython3",
   "version": "3.12.7"
  }
 },
 "nbformat": 4,
 "nbformat_minor": 5
}
